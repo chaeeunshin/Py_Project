{
 "cells": [
  {
   "cell_type": "code",
   "execution_count": 25,
   "id": "1410a2f3-01ef-4245-9554-c775768d44af",
   "metadata": {},
   "outputs": [],
   "source": [
    "import numpy as np\n",
    "import pandas as pd\n",
    "import matplotlib.pyplot as plt"
   ]
  },
  {
   "cell_type": "code",
   "execution_count": 27,
   "id": "cee899c4-5181-4285-a6fd-19cc898de8ff",
   "metadata": {},
   "outputs": [
    {
     "name": "stdout",
     "output_type": "stream",
     "text": [
      "  Family  Father  Mother Gender  Height  Kids\n",
      "0      1    78.5    67.0      M    73.2     4\n",
      "1      1    78.5    67.0      F    69.2     4\n",
      "2      1    78.5    67.0      F    69.0     4\n",
      "3      1    78.5    67.0      F    69.0     4\n",
      "4      2    75.5    66.5      M    73.5     4\n"
     ]
    }
   ],
   "source": [
    "df = pd.read_csv('Galton.txt',sep='\\t')\n",
    "\n",
    "print(df.head())"
   ]
  },
  {
   "cell_type": "code",
   "execution_count": 28,
   "id": "caccf7ed-c1c5-4500-bfeb-a4d6ade9292f",
   "metadata": {},
   "outputs": [
    {
     "name": "stdout",
     "output_type": "stream",
     "text": [
      "           Father      Mother      Height        Kids\n",
      "count  898.000000  898.000000  898.000000  898.000000\n",
      "mean    69.232851   64.084410   66.760690    6.135857\n",
      "std      2.470256    2.307025    3.582918    2.685156\n",
      "min     62.000000   58.000000   56.000000    1.000000\n",
      "25%     68.000000   63.000000   64.000000    4.000000\n",
      "50%     69.000000   64.000000   66.500000    6.000000\n",
      "75%     71.000000   65.500000   69.700000    8.000000\n",
      "max     78.500000   70.500000   79.000000   15.000000\n",
      "Family    0\n",
      "Father    0\n",
      "Mother    0\n",
      "Gender    0\n",
      "Height    0\n",
      "Kids      0\n",
      "dtype: int64\n",
      "Family     object\n",
      "Father    float64\n",
      "Mother    float64\n",
      "Gender     object\n",
      "Height    float64\n",
      "Kids        int64\n",
      "dtype: object\n"
     ]
    }
   ],
   "source": [
    "#Display the summary statistics\n",
    "print(df.describe())\n",
    "\n",
    "#Check for missing values\n",
    "print(df.isnull().sum())\n",
    "\n",
    "#Display the data types of each column\n",
    "print(df.dtypes)"
   ]
  },
  {
   "cell_type": "code",
   "execution_count": 31,
   "id": "79fe6b72-c235-4b4c-8867-b7d981bef171",
   "metadata": {},
   "outputs": [
    {
     "data": {
      "text/html": [
       "<div>\n",
       "<style scoped>\n",
       "    .dataframe tbody tr th:only-of-type {\n",
       "        vertical-align: middle;\n",
       "    }\n",
       "\n",
       "    .dataframe tbody tr th {\n",
       "        vertical-align: top;\n",
       "    }\n",
       "\n",
       "    .dataframe thead th {\n",
       "        text-align: right;\n",
       "    }\n",
       "</style>\n",
       "<table border=\"1\" class=\"dataframe\">\n",
       "  <thead>\n",
       "    <tr style=\"text-align: right;\">\n",
       "      <th></th>\n",
       "      <th>Family</th>\n",
       "      <th>Father</th>\n",
       "      <th>Mother</th>\n",
       "      <th>Gender</th>\n",
       "      <th>Height</th>\n",
       "      <th>Kids</th>\n",
       "    </tr>\n",
       "  </thead>\n",
       "  <tbody>\n",
       "    <tr>\n",
       "      <th>0</th>\n",
       "      <td>1</td>\n",
       "      <td>78.5</td>\n",
       "      <td>67.0</td>\n",
       "      <td>M</td>\n",
       "      <td>73.2</td>\n",
       "      <td>4</td>\n",
       "    </tr>\n",
       "    <tr>\n",
       "      <th>1</th>\n",
       "      <td>1</td>\n",
       "      <td>78.5</td>\n",
       "      <td>67.0</td>\n",
       "      <td>F</td>\n",
       "      <td>69.2</td>\n",
       "      <td>4</td>\n",
       "    </tr>\n",
       "    <tr>\n",
       "      <th>2</th>\n",
       "      <td>1</td>\n",
       "      <td>78.5</td>\n",
       "      <td>67.0</td>\n",
       "      <td>F</td>\n",
       "      <td>69.0</td>\n",
       "      <td>4</td>\n",
       "    </tr>\n",
       "    <tr>\n",
       "      <th>3</th>\n",
       "      <td>1</td>\n",
       "      <td>78.5</td>\n",
       "      <td>67.0</td>\n",
       "      <td>F</td>\n",
       "      <td>69.0</td>\n",
       "      <td>4</td>\n",
       "    </tr>\n",
       "    <tr>\n",
       "      <th>4</th>\n",
       "      <td>2</td>\n",
       "      <td>75.5</td>\n",
       "      <td>66.5</td>\n",
       "      <td>M</td>\n",
       "      <td>73.5</td>\n",
       "      <td>4</td>\n",
       "    </tr>\n",
       "    <tr>\n",
       "      <th>...</th>\n",
       "      <td>...</td>\n",
       "      <td>...</td>\n",
       "      <td>...</td>\n",
       "      <td>...</td>\n",
       "      <td>...</td>\n",
       "      <td>...</td>\n",
       "    </tr>\n",
       "    <tr>\n",
       "      <th>893</th>\n",
       "      <td>136A</td>\n",
       "      <td>68.5</td>\n",
       "      <td>65.0</td>\n",
       "      <td>M</td>\n",
       "      <td>68.5</td>\n",
       "      <td>8</td>\n",
       "    </tr>\n",
       "    <tr>\n",
       "      <th>894</th>\n",
       "      <td>136A</td>\n",
       "      <td>68.5</td>\n",
       "      <td>65.0</td>\n",
       "      <td>M</td>\n",
       "      <td>67.7</td>\n",
       "      <td>8</td>\n",
       "    </tr>\n",
       "    <tr>\n",
       "      <th>895</th>\n",
       "      <td>136A</td>\n",
       "      <td>68.5</td>\n",
       "      <td>65.0</td>\n",
       "      <td>F</td>\n",
       "      <td>64.0</td>\n",
       "      <td>8</td>\n",
       "    </tr>\n",
       "    <tr>\n",
       "      <th>896</th>\n",
       "      <td>136A</td>\n",
       "      <td>68.5</td>\n",
       "      <td>65.0</td>\n",
       "      <td>F</td>\n",
       "      <td>63.5</td>\n",
       "      <td>8</td>\n",
       "    </tr>\n",
       "    <tr>\n",
       "      <th>897</th>\n",
       "      <td>136A</td>\n",
       "      <td>68.5</td>\n",
       "      <td>65.0</td>\n",
       "      <td>F</td>\n",
       "      <td>63.0</td>\n",
       "      <td>8</td>\n",
       "    </tr>\n",
       "  </tbody>\n",
       "</table>\n",
       "<p>898 rows × 6 columns</p>\n",
       "</div>"
      ],
      "text/plain": [
       "    Family  Father  Mother Gender  Height  Kids\n",
       "0        1    78.5    67.0      M    73.2     4\n",
       "1        1    78.5    67.0      F    69.2     4\n",
       "2        1    78.5    67.0      F    69.0     4\n",
       "3        1    78.5    67.0      F    69.0     4\n",
       "4        2    75.5    66.5      M    73.5     4\n",
       "..     ...     ...     ...    ...     ...   ...\n",
       "893   136A    68.5    65.0      M    68.5     8\n",
       "894   136A    68.5    65.0      M    67.7     8\n",
       "895   136A    68.5    65.0      F    64.0     8\n",
       "896   136A    68.5    65.0      F    63.5     8\n",
       "897   136A    68.5    65.0      F    63.0     8\n",
       "\n",
       "[898 rows x 6 columns]"
      ]
     },
     "execution_count": 31,
     "metadata": {},
     "output_type": "execute_result"
    }
   ],
   "source": [
    "#Drop missing values\n",
    "df.dropna()\n",
    "\n",
    "#Fill missing values with the mean of the column\n",
    "df.fillna(df.mean(numeric_only=True))\n"
   ]
  },
  {
   "cell_type": "code",
   "execution_count": 50,
   "id": "b752a2e2-e312-4aac-a592-795ba6fb31cc",
   "metadata": {},
   "outputs": [
    {
     "name": "stdout",
     "output_type": "stream",
     "text": [
      "    Family  Father  Mother Gender  Height  Kids\n",
      "0        1    78.5    67.0      M    73.2     4\n",
      "1        1    78.5    67.0      F    69.2     4\n",
      "2        1    78.5    67.0      F    69.0     4\n",
      "3        1    78.5    67.0      F    69.0     4\n",
      "4        2    75.5    66.5      M    73.5     4\n",
      "..     ...     ...     ...    ...     ...   ...\n",
      "890   136A    68.5    65.0      M    72.0     8\n",
      "891   136A    68.5    65.0      M    70.5     8\n",
      "892   136A    68.5    65.0      M    68.7     8\n",
      "893   136A    68.5    65.0      M    68.5     8\n",
      "894   136A    68.5    65.0      M    67.7     8\n",
      "\n",
      "[443 rows x 6 columns]\n"
     ]
    }
   ],
   "source": [
    "height = df['Height']\n",
    "height = height.astype(int)\n",
    "df['Height'].mean()\n",
    "aboveave = df[df['Height']>df['Height'].mean()]\n",
    "print(aboveave)"
   ]
  },
  {
   "cell_type": "code",
   "execution_count": 53,
   "id": "ab0b43a6-827a-46c4-8c35-77edd710db41",
   "metadata": {},
   "outputs": [
    {
     "data": {
      "image/png": "[encoded data removed]",
      "text/plain": [
       "<Figure size 640x480 with 1 Axes>"
      ]
     },
     "metadata": {},
     "output_type": "display_data"
    },
    {
     "data": {
      "image/png": "[encoded data removed]",
      "text/plain": [
       "<Figure size 640x480 with 1 Axes>"
      ]
     },
     "metadata": {},
     "output_type": "display_data"
    }
   ],
   "source": [
    "# Histogram of height\n",
    "df['Height'].hist()\n",
    "plt.title('Height distribution')\n",
    "plt.xlabel('Height')\n",
    "plt.ylabel('Frequency')\n",
    "plt.show()\n",
    "\n",
    "# Scatter plot of height vs. mother's height\n",
    "plt.scatter(df['Height'], df['Mother'])\n",
    "plt.title('Height vs. Mothers height')\n",
    "plt.xlabel('Height')\n",
    "plt.ylabel('Mothers height')\n",
    "plt.show()"
   ]
  },
  {
   "cell_type": "code",
   "execution_count": 55,
   "id": "da667fca-5db2-4a48-a094-28ea5e86553f",
   "metadata": {},
   "outputs": [
    {
     "name": "stdout",
     "output_type": "stream",
     "text": [
      "Gender\n",
      "F    64.110162\n",
      "M    69.228817\n",
      "Name: Height, dtype: float64\n"
     ]
    }
   ],
   "source": [
    "#Average height by gender\n",
    "ave_height_by_genders = df.groupby('Gender')['Height'].mean()\n",
    "print(ave_height_by_genders)"
   ]
  },
  {
   "cell_type": "code",
   "execution_count": null,
   "id": "c0b249a8-512d-4af7-b26e-1eee73bc9dbe",
   "metadata": {},
   "outputs": [],
   "source": []
  }
 ],
 "metadata": {
  "kernelspec": {
   "display_name": "Python 3 (ipykernel)",
   "language": "python",
   "name": "python3"
  },
  "language_info": {
   "codemirror_mode": {
    "name": "ipython",
    "version": 3
   },
   "file_extension": ".py",
   "mimetype": "text/x-python",
   "name": "python",
   "nbconvert_exporter": "python",
   "pygments_lexer": "ipython3",
   "version": "3.11.7"
  }
 },
 "nbformat": 4,
 "nbformat_minor": 5
}
