{
 "cells": [
  {
   "cell_type": "code",
   "execution_count": 52,
   "id": "bd7c768b-fd9f-4133-b8d7-763c8d33a2e6",
   "metadata": {},
   "outputs": [],
   "source": [
    "import pandas as pd\n",
    "import numpy as np\n",
    "import itertools\n",
    "from sklearn.linear_model import LinearRegression, LogisticRegression\n",
    "from sklearn.metrics import mean_squared_error, r2_score, confusion_matrix, accuracy_score, recall_score, precision_score\n",
    "from sklearn.model_selection import train_test_split\n",
    "import statsmodels.api as sm"
   ]
  },
  {
   "cell_type": "code",
   "execution_count": 53,
   "id": "985516c9-e69a-4a4c-900d-bcb7363238cd",
   "metadata": {},
   "outputs": [
    {
     "name": "stdout",
     "output_type": "stream",
     "text": [
      "   Id  LotArea  OverallQual  OverallCond  YearBuilt  YearRemodAdd  CentralAir  \\\n",
      "0   1     8450            7            5       2003          2003           1   \n",
      "1   2     9600            6            8       1976          1976           1   \n",
      "2   3    11250            7            5       2001          2002           1   \n",
      "3   4     9550            7            5       1915          1970           1   \n",
      "4   5    14260            8            5       2000          2000           1   \n",
      "\n",
      "   1stFlrSF  2ndFlrSF  GrLivArea  FullBath  HalfBath  BedroomAbvGr  \\\n",
      "0       856       854       1710         2         1             3   \n",
      "1      1262         0       1262         2         0             3   \n",
      "2       920       866       1786         2         1             3   \n",
      "3       961       756       1717         1         0             3   \n",
      "4      1145      1053       2198         2         1             4   \n",
      "\n",
      "   KitchenAbvGr  TotRmsAbvGrd  Fireplaces  GarageCars  GarageArea  YrSold  \\\n",
      "0             1             8           0           2         548    2008   \n",
      "1             1             6           1           2         460    2007   \n",
      "2             1             6           1           2         608    2008   \n",
      "3             1             7           1           3         642    2006   \n",
      "4             1             9           1           3         836    2008   \n",
      "\n",
      "   SalePrice  \n",
      "0     208500  \n",
      "1     181500  \n",
      "2     223500  \n",
      "3     140000  \n",
      "4     250000  \n"
     ]
    }
   ],
   "source": [
    "data1 = pd.read_csv('Ames_Housing_Data.csv')\n",
    "data1['CentralAir'].replace('Y',1,inplace=True)\n",
    "data1['CentralAir'].replace('N',0,inplace=True)\n",
    "print(data1.head())"
   ]
  },
  {
   "cell_type": "code",
   "execution_count": 39,
   "id": "5f139cc0-49ff-4af0-aec0-f754f67b19f0",
   "metadata": {},
   "outputs": [
    {
     "name": "stdout",
     "output_type": "stream",
     "text": [
      "(1095, 19)\n",
      "(365, 19)\n",
      "19\n"
     ]
    }
   ],
   "source": [
    "#Question 1-1\n",
    "x = data1.drop('SalePrice', axis=1)\n",
    "y = data1['SalePrice']\n",
    "x_train, x_test, y_train, y_test = train_test_split(x,y,test_size=0.25, random_state=123)\n",
    "print(x_train.shape)\n",
    "print(x_test.shape)"
   ]
  },
  {
   "cell_type": "code",
   "execution_count": 25,
   "id": "c875935f-31ad-40c4-8958-c9b6f4e30d71",
   "metadata": {},
   "outputs": [
    {
     "name": "stdout",
     "output_type": "stream",
     "text": [
      "Stepwise Model intercept:  688251.1975948742\n",
      "[-2.89310098e+00  6.81584629e-01  1.74391856e+04  9.20328226e+03\n",
      "  4.70759516e+02 -3.32767528e+01 -9.31129224e+02  3.34233532e+00\n",
      " -3.23554552e+01  7.79684601e+01  7.17175234e+03  6.32144296e+03\n",
      " -1.41787052e+04 -2.71464923e+04  7.82816010e+03  3.96224907e+03\n",
      " -9.95864332e+03  7.02895371e+01 -8.24736625e+02]\n",
      "Stepwise Model MSE:  1009059794.1088772\n",
      "Stepwise Model R2:  0.8326735173740077\n"
     ]
    }
   ],
   "source": [
    "#Question 1-2\n",
    "def forward_selection(x,y):\n",
    "    initial_features = x.columns.tolist()\n",
    "    best_features = []\n",
    "    \n",
    "lr = LinearRegression()\n",
    "sfs = SequentialFeatureSelector(lr,n_features_to_select=np.log(x_train.shape[0]), direction = 'forward', cv = 5)\n",
    "lr_sfs = LinearRegression()\n",
    "stepwisemodel = lr_sfs.fit(x_test, y_test)\n",
    "y_predict = stepwisemodel.predict(x_test)\n",
    "stepwisemodel_MSE = mean_squared_error(y_test, y_predict)\n",
    "stepwisemodel_R2 = r2_score(y_test, y_predict)\n",
    "print(\"Stepwise Model intercept: \", stepwisemodel.intercept_)\n",
    "print(stepwisemodel.coef_)\n",
    "print('Stepwise Model MSE: ', stepwisemodel_MSE)\n",
    "print('Stepwise Model R2: ', stepwisemodel_R2)"
   ]
  },
  {
   "cell_type": "code",
   "execution_count": 40,
   "id": "dc6003ee-fae7-4299-a5ee-d056a73ad95f",
   "metadata": {},
   "outputs": [
    {
     "ename": "ValueError",
     "evalue": "Found input variables with inconsistent numbers of samples: [1095, 365]",
     "output_type": "error",
     "traceback": [
      "\u001b[0;31m---------------------------------------------------------------------------\u001b[0m",
      "\u001b[0;31mValueError\u001b[0m                                Traceback (most recent call last)",
      "Cell \u001b[0;32mIn[40], line 16\u001b[0m\n\u001b[1;32m     13\u001b[0m               best_SSE \u001b[38;5;241m=\u001b[39m SSE\n\u001b[1;32m     14\u001b[0m               best_model \u001b[38;5;241m=\u001b[39m model\n\u001b[0;32m---> 16\u001b[0m bestsubsetmodel \u001b[38;5;241m=\u001b[39m bestSubset(x_test, y_test)\n\u001b[1;32m     18\u001b[0m \u001b[38;5;28mprint\u001b[39m(\u001b[38;5;124m\"\u001b[39m\u001b[38;5;124mBest subset model coefficients:\u001b[39m\u001b[38;5;124m\"\u001b[39m, bestsubsetmodel\u001b[38;5;241m.\u001b[39mcoef_)\n",
      "Cell \u001b[0;32mIn[40], line 9\u001b[0m, in \u001b[0;36mbestSubset\u001b[0;34m(x_test, y_test)\u001b[0m\n\u001b[1;32m      7\u001b[0m x_subset \u001b[38;5;241m=\u001b[39m x_train[\u001b[38;5;28mlist\u001b[39m(subset)]\n\u001b[1;32m      8\u001b[0m model \u001b[38;5;241m=\u001b[39m LinearRegression()\n\u001b[0;32m----> 9\u001b[0m model\u001b[38;5;241m.\u001b[39mfit(x_subset, y_test)\n\u001b[1;32m     10\u001b[0m y_pred \u001b[38;5;241m=\u001b[39m model\u001b[38;5;241m.\u001b[39mpredict(x_subset)\n\u001b[1;32m     11\u001b[0m SSE \u001b[38;5;241m=\u001b[39m np\u001b[38;5;241m.\u001b[39msum((y_test\u001b[38;5;241m-\u001b[39my_pred)\u001b[38;5;241m*\u001b[39m\u001b[38;5;241m*\u001b[39m\u001b[38;5;241m2\u001b[39m)\n",
      "File \u001b[0;32m/opt/anaconda3/lib/python3.11/site-packages/sklearn/linear_model/_base.py:648\u001b[0m, in \u001b[0;36mLinearRegression.fit\u001b[0;34m(self, X, y, sample_weight)\u001b[0m\n\u001b[1;32m    644\u001b[0m n_jobs_ \u001b[38;5;241m=\u001b[39m \u001b[38;5;28mself\u001b[39m\u001b[38;5;241m.\u001b[39mn_jobs\n\u001b[1;32m    646\u001b[0m accept_sparse \u001b[38;5;241m=\u001b[39m \u001b[38;5;28;01mFalse\u001b[39;00m \u001b[38;5;28;01mif\u001b[39;00m \u001b[38;5;28mself\u001b[39m\u001b[38;5;241m.\u001b[39mpositive \u001b[38;5;28;01melse\u001b[39;00m [\u001b[38;5;124m\"\u001b[39m\u001b[38;5;124mcsr\u001b[39m\u001b[38;5;124m\"\u001b[39m, \u001b[38;5;124m\"\u001b[39m\u001b[38;5;124mcsc\u001b[39m\u001b[38;5;124m\"\u001b[39m, \u001b[38;5;124m\"\u001b[39m\u001b[38;5;124mcoo\u001b[39m\u001b[38;5;124m\"\u001b[39m]\n\u001b[0;32m--> 648\u001b[0m X, y \u001b[38;5;241m=\u001b[39m \u001b[38;5;28mself\u001b[39m\u001b[38;5;241m.\u001b[39m_validate_data(\n\u001b[1;32m    649\u001b[0m     X, y, accept_sparse\u001b[38;5;241m=\u001b[39maccept_sparse, y_numeric\u001b[38;5;241m=\u001b[39m\u001b[38;5;28;01mTrue\u001b[39;00m, multi_output\u001b[38;5;241m=\u001b[39m\u001b[38;5;28;01mTrue\u001b[39;00m\n\u001b[1;32m    650\u001b[0m )\n\u001b[1;32m    652\u001b[0m sample_weight \u001b[38;5;241m=\u001b[39m _check_sample_weight(\n\u001b[1;32m    653\u001b[0m     sample_weight, X, dtype\u001b[38;5;241m=\u001b[39mX\u001b[38;5;241m.\u001b[39mdtype, only_non_negative\u001b[38;5;241m=\u001b[39m\u001b[38;5;28;01mTrue\u001b[39;00m\n\u001b[1;32m    654\u001b[0m )\n\u001b[1;32m    656\u001b[0m X, y, X_offset, y_offset, X_scale \u001b[38;5;241m=\u001b[39m _preprocess_data(\n\u001b[1;32m    657\u001b[0m     X,\n\u001b[1;32m    658\u001b[0m     y,\n\u001b[0;32m   (...)\u001b[0m\n\u001b[1;32m    661\u001b[0m     sample_weight\u001b[38;5;241m=\u001b[39msample_weight,\n\u001b[1;32m    662\u001b[0m )\n",
      "File \u001b[0;32m/opt/anaconda3/lib/python3.11/site-packages/sklearn/base.py:584\u001b[0m, in \u001b[0;36mBaseEstimator._validate_data\u001b[0;34m(self, X, y, reset, validate_separately, **check_params)\u001b[0m\n\u001b[1;32m    582\u001b[0m         y \u001b[38;5;241m=\u001b[39m check_array(y, input_name\u001b[38;5;241m=\u001b[39m\u001b[38;5;124m\"\u001b[39m\u001b[38;5;124my\u001b[39m\u001b[38;5;124m\"\u001b[39m, \u001b[38;5;241m*\u001b[39m\u001b[38;5;241m*\u001b[39mcheck_y_params)\n\u001b[1;32m    583\u001b[0m     \u001b[38;5;28;01melse\u001b[39;00m:\n\u001b[0;32m--> 584\u001b[0m         X, y \u001b[38;5;241m=\u001b[39m check_X_y(X, y, \u001b[38;5;241m*\u001b[39m\u001b[38;5;241m*\u001b[39mcheck_params)\n\u001b[1;32m    585\u001b[0m     out \u001b[38;5;241m=\u001b[39m X, y\n\u001b[1;32m    587\u001b[0m \u001b[38;5;28;01mif\u001b[39;00m \u001b[38;5;129;01mnot\u001b[39;00m no_val_X \u001b[38;5;129;01mand\u001b[39;00m check_params\u001b[38;5;241m.\u001b[39mget(\u001b[38;5;124m\"\u001b[39m\u001b[38;5;124mensure_2d\u001b[39m\u001b[38;5;124m\"\u001b[39m, \u001b[38;5;28;01mTrue\u001b[39;00m):\n",
      "File \u001b[0;32m/opt/anaconda3/lib/python3.11/site-packages/sklearn/utils/validation.py:1124\u001b[0m, in \u001b[0;36mcheck_X_y\u001b[0;34m(X, y, accept_sparse, accept_large_sparse, dtype, order, copy, force_all_finite, ensure_2d, allow_nd, multi_output, ensure_min_samples, ensure_min_features, y_numeric, estimator)\u001b[0m\n\u001b[1;32m   1106\u001b[0m X \u001b[38;5;241m=\u001b[39m check_array(\n\u001b[1;32m   1107\u001b[0m     X,\n\u001b[1;32m   1108\u001b[0m     accept_sparse\u001b[38;5;241m=\u001b[39maccept_sparse,\n\u001b[0;32m   (...)\u001b[0m\n\u001b[1;32m   1119\u001b[0m     input_name\u001b[38;5;241m=\u001b[39m\u001b[38;5;124m\"\u001b[39m\u001b[38;5;124mX\u001b[39m\u001b[38;5;124m\"\u001b[39m,\n\u001b[1;32m   1120\u001b[0m )\n\u001b[1;32m   1122\u001b[0m y \u001b[38;5;241m=\u001b[39m _check_y(y, multi_output\u001b[38;5;241m=\u001b[39mmulti_output, y_numeric\u001b[38;5;241m=\u001b[39my_numeric, estimator\u001b[38;5;241m=\u001b[39mestimator)\n\u001b[0;32m-> 1124\u001b[0m check_consistent_length(X, y)\n\u001b[1;32m   1126\u001b[0m \u001b[38;5;28;01mreturn\u001b[39;00m X, y\n",
      "File \u001b[0;32m/opt/anaconda3/lib/python3.11/site-packages/sklearn/utils/validation.py:397\u001b[0m, in \u001b[0;36mcheck_consistent_length\u001b[0;34m(*arrays)\u001b[0m\n\u001b[1;32m    395\u001b[0m uniques \u001b[38;5;241m=\u001b[39m np\u001b[38;5;241m.\u001b[39munique(lengths)\n\u001b[1;32m    396\u001b[0m \u001b[38;5;28;01mif\u001b[39;00m \u001b[38;5;28mlen\u001b[39m(uniques) \u001b[38;5;241m>\u001b[39m \u001b[38;5;241m1\u001b[39m:\n\u001b[0;32m--> 397\u001b[0m     \u001b[38;5;28;01mraise\u001b[39;00m \u001b[38;5;167;01mValueError\u001b[39;00m(\n\u001b[1;32m    398\u001b[0m         \u001b[38;5;124m\"\u001b[39m\u001b[38;5;124mFound input variables with inconsistent numbers of samples: \u001b[39m\u001b[38;5;132;01m%r\u001b[39;00m\u001b[38;5;124m\"\u001b[39m\n\u001b[1;32m    399\u001b[0m         \u001b[38;5;241m%\u001b[39m [\u001b[38;5;28mint\u001b[39m(l) \u001b[38;5;28;01mfor\u001b[39;00m l \u001b[38;5;129;01min\u001b[39;00m lengths]\n\u001b[1;32m    400\u001b[0m     )\n",
      "\u001b[0;31mValueError\u001b[0m: Found input variables with inconsistent numbers of samples: [1095, 365]"
     ]
    }
   ],
   "source": [
    "#Question 1-3\n",
    "def bestSubset(x_test, y_test):\n",
    "    best_model = None\n",
    "    best_SSE = np.inf\n",
    "    for k in range(1, x_test.shape[1]):\n",
    "        for subset in itertools.combinations(x_test.columns, k):\n",
    "           x_subset = x_train[list(subset)]\n",
    "           model = LinearRegression()\n",
    "           model.fit(x_subset, y_test)\n",
    "           y_pred = model.predict(x_subset)\n",
    "           SSE = np.sum((y_test-y_pred)**2)\n",
    "           if SSE < best_SSE:\n",
    "              best_SSE = SSE\n",
    "              best_model = model\n",
    "               \n",
    "bestsubsetmodel = bestSubset(x_test, y_test)\n",
    "\n",
    "print(\"Best subset model coefficients:\", bestsubsetmodel.coef_)"
   ]
  },
  {
   "cell_type": "code",
   "execution_count": 44,
   "id": "6e8a80dc-055d-40e2-a7e0-8d43d6bac4b4",
   "metadata": {},
   "outputs": [
    {
     "name": "stdout",
     "output_type": "stream",
     "text": [
      "714 passengers left after deleting missing values in the variable age\n",
      "   Survived  Pclass     Sex   Age  SibSp  Parch     Fare Embarked\n",
      "0         0       3    male  22.0      1      0   7.2500        S\n",
      "1         1       1  female  38.0      1      0  71.2833        C\n",
      "2         1       3  female  26.0      0      0   7.9250        S\n",
      "3         1       1  female  35.0      1      0  53.1000        S\n",
      "4         0       3    male  35.0      0      0   8.0500        S\n"
     ]
    }
   ],
   "source": [
    "#Question 2-1\n",
    "data2 = pd.read_csv('Titanic2.csv')\n",
    "data2 = data2.drop(columns=['PassengerId','Name','Ticket','Cabin'])\n",
    "data2 = data2.dropna()\n",
    "print(data2.shape[0],'passengers left after deleting missing values in the variable age')\n",
    "print(data2.head())"
   ]
  },
  {
   "cell_type": "code",
   "execution_count": 45,
   "id": "97ea2a99-ceb0-4914-856f-5f6119ce9656",
   "metadata": {},
   "outputs": [
    {
     "name": "stdout",
     "output_type": "stream",
     "text": [
      "Survived      int64\n",
      "Pclass        int64\n",
      "Sex          object\n",
      "Age         float64\n",
      "SibSp         int64\n",
      "Parch         int64\n",
      "Fare        float64\n",
      "Embarked     object\n",
      "dtype: object\n",
      "  Survived Pclass  Sex   Age  SibSp  Parch     Fare  Embarked\n",
      "0        0      3    0  22.0      1      0   7.2500         2\n",
      "1        1      1    1  38.0      1      0  71.2833         0\n",
      "2        1      3    1  26.0      0      0   7.9250         2\n",
      "3        1      1    1  35.0      1      0  53.1000         2\n",
      "4        0      3    0  35.0      0      0   8.0500         2\n"
     ]
    }
   ],
   "source": [
    "#Question 2-2\n",
    "print(data2.dtypes)\n",
    "data2['Survived'] = data2['Survived'].astype('category')\n",
    "data2['Pclass'] = data2['Pclass'].astype('category')\n",
    "data2['Sex'].replace('male',0,inplace=True)\n",
    "data2['Sex'].replace('female',1,inplace=True)\n",
    "data2['Embarked'].replace('C',0,inplace=True)\n",
    "data2['Embarked'].replace('Q',1,inplace=True)\n",
    "data2['Embarked'].replace('S',2,inplace=True)\n",
    "print(data2.head())"
   ]
  },
  {
   "cell_type": "code",
   "execution_count": 46,
   "id": "ec95ac54-ed17-4fb3-9f1d-a45d3273ea48",
   "metadata": {},
   "outputs": [
    {
     "name": "stdout",
     "output_type": "stream",
     "text": [
      "(571, 7)\n",
      "(143, 7)\n"
     ]
    }
   ],
   "source": [
    "#Question 2-3\n",
    "x = data2.drop('Survived',axis=1)\n",
    "y = data2['Survived']\n",
    "x_train, x_test, y_train, y_test = train_test_split(x,y,test_size=0.2, random_state=123)\n",
    "print(x_train.shape)\n",
    "print(x_test.shape)"
   ]
  },
  {
   "cell_type": "code",
   "execution_count": 47,
   "id": "99f260df-4dbd-44ef-a5d7-f63480bdae52",
   "metadata": {},
   "outputs": [
    {
     "data": {
      "text/html": [
       "<style>#sk-container-id-1 {color: black;background-color: white;}#sk-container-id-1 pre{padding: 0;}#sk-container-id-1 div.sk-toggleable {background-color: white;}#sk-container-id-1 label.sk-toggleable__label {cursor: pointer;display: block;width: 100%;margin-bottom: 0;padding: 0.3em;box-sizing: border-box;text-align: center;}#sk-container-id-1 label.sk-toggleable__label-arrow:before {content: \"▸\";float: left;margin-right: 0.25em;color: #696969;}#sk-container-id-1 label.sk-toggleable__label-arrow:hover:before {color: black;}#sk-container-id-1 div.sk-estimator:hover label.sk-toggleable__label-arrow:before {color: black;}#sk-container-id-1 div.sk-toggleable__content {max-height: 0;max-width: 0;overflow: hidden;text-align: left;background-color: #f0f8ff;}#sk-container-id-1 div.sk-toggleable__content pre {margin: 0.2em;color: black;border-radius: 0.25em;background-color: #f0f8ff;}#sk-container-id-1 input.sk-toggleable__control:checked~div.sk-toggleable__content {max-height: 200px;max-width: 100%;overflow: auto;}#sk-container-id-1 input.sk-toggleable__control:checked~label.sk-toggleable__label-arrow:before {content: \"▾\";}#sk-container-id-1 div.sk-estimator input.sk-toggleable__control:checked~label.sk-toggleable__label {background-color: #d4ebff;}#sk-container-id-1 div.sk-label input.sk-toggleable__control:checked~label.sk-toggleable__label {background-color: #d4ebff;}#sk-container-id-1 input.sk-hidden--visually {border: 0;clip: rect(1px 1px 1px 1px);clip: rect(1px, 1px, 1px, 1px);height: 1px;margin: -1px;overflow: hidden;padding: 0;position: absolute;width: 1px;}#sk-container-id-1 div.sk-estimator {font-family: monospace;background-color: #f0f8ff;border: 1px dotted black;border-radius: 0.25em;box-sizing: border-box;margin-bottom: 0.5em;}#sk-container-id-1 div.sk-estimator:hover {background-color: #d4ebff;}#sk-container-id-1 div.sk-parallel-item::after {content: \"\";width: 100%;border-bottom: 1px solid gray;flex-grow: 1;}#sk-container-id-1 div.sk-label:hover label.sk-toggleable__label {background-color: #d4ebff;}#sk-container-id-1 div.sk-serial::before {content: \"\";position: absolute;border-left: 1px solid gray;box-sizing: border-box;top: 0;bottom: 0;left: 50%;z-index: 0;}#sk-container-id-1 div.sk-serial {display: flex;flex-direction: column;align-items: center;background-color: white;padding-right: 0.2em;padding-left: 0.2em;position: relative;}#sk-container-id-1 div.sk-item {position: relative;z-index: 1;}#sk-container-id-1 div.sk-parallel {display: flex;align-items: stretch;justify-content: center;background-color: white;position: relative;}#sk-container-id-1 div.sk-item::before, #sk-container-id-1 div.sk-parallel-item::before {content: \"\";position: absolute;border-left: 1px solid gray;box-sizing: border-box;top: 0;bottom: 0;left: 50%;z-index: -1;}#sk-container-id-1 div.sk-parallel-item {display: flex;flex-direction: column;z-index: 1;position: relative;background-color: white;}#sk-container-id-1 div.sk-parallel-item:first-child::after {align-self: flex-end;width: 50%;}#sk-container-id-1 div.sk-parallel-item:last-child::after {align-self: flex-start;width: 50%;}#sk-container-id-1 div.sk-parallel-item:only-child::after {width: 0;}#sk-container-id-1 div.sk-dashed-wrapped {border: 1px dashed gray;margin: 0 0.4em 0.5em 0.4em;box-sizing: border-box;padding-bottom: 0.4em;background-color: white;}#sk-container-id-1 div.sk-label label {font-family: monospace;font-weight: bold;display: inline-block;line-height: 1.2em;}#sk-container-id-1 div.sk-label-container {text-align: center;}#sk-container-id-1 div.sk-container {/* jupyter's `normalize.less` sets `[hidden] { display: none; }` but bootstrap.min.css set `[hidden] { display: none !important; }` so we also need the `!important` here to be able to override the default hidden behavior on the sphinx rendered scikit-learn.org. See: https://github.com/scikit-learn/scikit-learn/issues/21755 */display: inline-block !important;position: relative;}#sk-container-id-1 div.sk-text-repr-fallback {display: none;}</style><div id=\"sk-container-id-1\" class=\"sk-top-container\"><div class=\"sk-text-repr-fallback\"><pre>LogisticRegression()</pre><b>In a Jupyter environment, please rerun this cell to show the HTML representation or trust the notebook. <br />On GitHub, the HTML representation is unable to render, please try loading this page with nbviewer.org.</b></div><div class=\"sk-container\" hidden><div class=\"sk-item\"><div class=\"sk-estimator sk-toggleable\"><input class=\"sk-toggleable__control sk-hidden--visually\" id=\"sk-estimator-id-1\" type=\"checkbox\" checked><label for=\"sk-estimator-id-1\" class=\"sk-toggleable__label sk-toggleable__label-arrow\">LogisticRegression</label><div class=\"sk-toggleable__content\"><pre>LogisticRegression()</pre></div></div></div></div></div>"
      ],
      "text/plain": [
       "LogisticRegression()"
      ]
     },
     "execution_count": 47,
     "metadata": {},
     "output_type": "execute_result"
    }
   ],
   "source": [
    "#Question 2-4\n",
    "model = LogisticRegression()\n",
    "model.fit(x_train, y_train)"
   ]
  },
  {
   "cell_type": "code",
   "execution_count": 48,
   "id": "3119ddc2-ce56-4dd5-8c79-ed6a788063f5",
   "metadata": {},
   "outputs": [
    {
     "name": "stdout",
     "output_type": "stream",
     "text": [
      "[1 0 1 1 1 0 0 0 0 1 1 0 0 1 1 0 0 0 1 0 0 1 1 1 1 1 0 0 0 0 0 0 1 0 1 0 0\n",
      " 0 0 0 0 0 0 1 1 1 0 1 1 1 0 1 0 1 1 0 1 0 0 0 1 1 0 0 1 0 0 1 0 0 0 1 1 0\n",
      " 0 0 1 0 0 0 0 1 1 0 0 1 1 1 0 1 0 1 0 0 1 1 1 1 0 1 0 1 0 1 1 0 1 0 0 0 0\n",
      " 0 1 1 1 0 1 0 0 0 0 0 0 1 0 0 0 1 0 0 1 1 0 1 0 0 0 0 0 0 0 0 1]\n",
      "Confusion matrix: \n",
      "[[69 18]\n",
      " [15 41]]\n",
      "Overall accuracy:  0.7692307692307693\n",
      "Sensitivity score:  0.7321428571428571\n"
     ]
    }
   ],
   "source": [
    "#Question 2-5\n",
    "y_pred = model.predict(x_test)\n",
    "print(y_pred)\n",
    "cm = confusion_matrix(y_test, y_pred)\n",
    "print(\"Confusion matrix: \")\n",
    "print(cm)\n",
    "accuracy = accuracy_score(y_test,y_pred)\n",
    "print(\"Overall accuracy: \", accuracy)\n",
    "sensitivity = recall_score(y_test, y_pred)\n",
    "print(\"Sensitivity score: \", sensitivity)\n",
    "specificity = cm[0,0]/(cm[0,0]+cm[0,1])"
   ]
  },
  {
   "cell_type": "code",
   "execution_count": 49,
   "id": "5e1e8802-a359-4665-8000-8e67f4bb603b",
   "metadata": {},
   "outputs": [
    {
     "name": "stdout",
     "output_type": "stream",
     "text": [
      "Predicted class:  [0]\n"
     ]
    },
    {
     "name": "stderr",
     "output_type": "stream",
     "text": [
      "/opt/anaconda3/lib/python3.11/site-packages/sklearn/base.py:439: UserWarning: X does not have valid feature names, but LogisticRegression was fitted with feature names\n",
      "  warnings.warn(\n"
     ]
    }
   ],
   "source": [
    "#Question 2-6\n",
    "input_data = np.array([[3,0,23,0,0,8.25,1]])\n",
    "prediction = model.predict(input_data)\n",
    "print(\"Predicted: \", prediction)\n",
    "# He is unlikely to survive. "
   ]
  },
  {
   "cell_type": "code",
   "execution_count": null,
   "id": "12ed251b-f0f3-48e3-84fa-a60209a6d41a",
   "metadata": {},
   "outputs": [],
   "source": []
  },
  {
   "cell_type": "code",
   "execution_count": null,
   "id": "a94b82aa-a337-4274-8972-332a8648f06a",
   "metadata": {},
   "outputs": [],
   "source": []
  }
 ],
 "metadata": {
  "kernelspec": {
   "display_name": "Python 3 (ipykernel)",
   "language": "python",
   "name": "python3"
  },
  "language_info": {
   "codemirror_mode": {
    "name": "ipython",
    "version": 3
   },
   "file_extension": ".py",
   "mimetype": "text/x-python",
   "name": "python",
   "nbconvert_exporter": "python",
   "pygments_lexer": "ipython3",
   "version": "3.11.7"
  }
 },
 "nbformat": 4,
 "nbformat_minor": 5
}
