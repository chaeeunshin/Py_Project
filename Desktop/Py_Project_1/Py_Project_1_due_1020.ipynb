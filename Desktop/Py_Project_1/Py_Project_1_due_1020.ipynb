{
 "cells": [
  {
   "cell_type": "markdown",
   "metadata": {
    "id": "xq__bChjD04e"
   },
   "source": [
    "# Python Assignment 1"
   ]
  },
  {
   "cell_type": "markdown",
   "metadata": {
    "id": "y7j2V0UDMYLG"
   },
   "source": [
    "⏱⏱⏱**Due: 10/20/2024 11:59:59 PM** ⏱⏱⏱\n",
    "\n",
    "Submit this notebook file and upload it to your git repo. Include a link to your git repo while submitting this file to Brightspace.\n",
    "\n",
    "You are not allowed to use chatgpt or any LLM in this assignment.\n",
    "Cooperation is allowed and encouraged; however, you must write up and submit your own work. If you cooperate with others, you must list their names here."
   ]
  },
  {
   "cell_type": "markdown",
   "metadata": {
    "id": "SUS30Ew9D04n"
   },
   "source": [
    "Total points: 100 (equivalent to 20 points after conversion)"
   ]
  },
  {
   "cell_type": "markdown",
   "metadata": {
    "id": "b_bgT3b2GYTB"
   },
   "source": [
    "## 0. Data Types, Structures, Indexing, and Slicing"
   ]
  },
  {
   "cell_type": "markdown",
   "metadata": {
    "id": "6yI1Jt57IwV2"
   },
   "source": [
    "Read the lecutre note as well as [this page](https://www.geeksforgeeks.org/mutable-vs-immutable-objects-in-python/) and [this page](https://www.geeksforgeeks.org/difference-between-shallow-and-deep-copy-of-a-class/). Complete the following questions.\n",
    "\n",
    "(5 points) Give some examples (at least 2) of mutable objects in Python.\n",
    "\n",
    "***Answer:***\n",
    "\n",
    "List is one of examples of mutable objects in python. Another example is Dictionary.\n",
    "---\n",
    "\n",
    "\n",
    "\n",
    "(5 points) Give some examples (at least 2) of immutable objects in Python.\n",
    "\n",
    "***Answer:***\n",
    "\n",
    "String is one of examples of immutable objects in python. Also, numbers including integers and floats are immutable. \n",
    "---\n",
    "\n",
    "\n",
    "\n",
    "(10 points) State the differences between assignment, shallow copy, and deep copy. Any reasonable answer will get full credit.\n",
    "\n",
    "***Answer:***\n",
    "\n",
    "Assignment is to create a new reference to the same underlying object in memory. \n",
    "Shallow copy is to create a new object and insert references into it to the objects found in the original.\n",
    "Deep copy is to create a new object and insert copies into it of the objects found in the original.\n",
    "---\n",
    "\n",
    "\n",
    "\n"
   ]
  },
  {
   "cell_type": "markdown",
   "metadata": {
    "id": "OA8DxcrrGqZD"
   },
   "source": [
    "(10 points) Using string methods find() and rfind(), find the index of the first digit (i.e. 0) and the index of the last digit (5) in the string below. Then, using string slicing, extract the number (i.e. 0.595595) from this string and convert the extracted value to a floating point number. Print out this float to the console."
   ]
  },
  {
   "cell_type": "code",
   "execution_count": 300,
   "metadata": {
    "id": "AUuFXXWqG4D3"
   },
   "outputs": [
    {
     "name": "stdout",
     "output_type": "stream",
     "text": [
      "Index of the first digit is  43\n",
      "The first digit is  0\n",
      "Index of the last digit is  50\n",
      "The last digit is  5\n",
      "Extracted number is  0.595595\n"
     ]
    }
   ],
   "source": [
    "text = \"F-DGFDDSFGFD-CFDSHdstgfdfe: tfsd  aaa bdsf 0.595595 fdsgfdbc\";\n",
    "\n",
    "text_boolean = [ch for ch in text] # Generate a list version of the string\n",
    "for i in range(len(text)): # Using for loop \n",
    "    if text[i].isdigit():\n",
    "        text_boolean[i] = 'T' # Convert each element of the list to 'T' if the element is a digit\n",
    "    else:\n",
    "        text_boolean[i] = 'F' # and convert to 'F' if the element is not digit\n",
    "text_boolean = ''.join(text_boolean) # Change the list to string\n",
    "first_index = text_boolean.find('T') # Use find() for an index of the first occurrence\n",
    "last_index = text_boolean.rfind('T') # and rfind() for an index of the last occurrence\n",
    "\n",
    "print('Index of the first digit is ', first_index)\n",
    "print('The first digit is ', text[first_index])\n",
    "print('Index of the last digit is ', last_index)\n",
    "print('The last digit is ', text[last_index])\n",
    "\n",
    "digits = text[first_index:last_index+1] # For string slicing such as start:end, the index of 'end' is not included therefore I added 1\n",
    "digits = float(digit) # Convert an extracted string to float\n",
    "print('Extracted number is ', digits)\n",
    "        "
   ]
  },
  {
   "cell_type": "markdown",
   "metadata": {
    "id": "cnCljYgpD04p"
   },
   "source": [
    "## 1. Conditional Statements\n",
    "\n",
    "(10 points)\n",
    "Translate the following MATLAB code into Python using `if-elif-else`.\n",
    "```\n",
    "n = input('Enter a number: ');\n",
    "\n",
    "switch n\n",
    "    case -1\n",
    "        disp('negative one')\n",
    "    case 0\n",
    "        disp('zero')\n",
    "    case 1\n",
    "        disp('positive one')\n",
    "    otherwise\n",
    "        disp('other value')\n",
    "end\n",
    "```"
   ]
  },
  {
   "cell_type": "code",
   "execution_count": 304,
   "metadata": {
    "id": "9d8vl5zjD04q"
   },
   "outputs": [
    {
     "name": "stdin",
     "output_type": "stream",
     "text": [
      "Enter a number:  3\n"
     ]
    },
    {
     "name": "stdout",
     "output_type": "stream",
     "text": [
      "other value\n"
     ]
    }
   ],
   "source": [
    "n = input('Enter a number: ')\n",
    "n = int(n) # Change to integer type since the input is considered as string\n",
    "\n",
    "if n == -1: # case -1\n",
    "    result = 'negative one'\n",
    "elif n == 0: # case 0\n",
    "    result = 'zero'\n",
    "elif n == 1: # caes 1\n",
    "    result = 'positive one'\n",
    "else: # equivalent to 'otherwise' in MATLAB\n",
    "    result = 'other value'\n",
    "\n",
    "print(result)\n"
   ]
  },
  {
   "cell_type": "markdown",
   "metadata": {
    "id": "sW9XiUPpD04s"
   },
   "source": [
    "## 2. While Loops\n",
    "\n",
    "(10 points) Write a Python program that calculates the factorial of a given number (you can assume an positive integer) using a while loop. Display the result to the console."
   ]
  },
  {
   "cell_type": "code",
   "execution_count": 306,
   "metadata": {
    "colab": {
     "base_uri": "https://localhost:8080/"
    },
    "id": "CRCERx8uD04t",
    "outputId": "1870b9d1-fe04-4ae7-e5ec-08ce640ce72e"
   },
   "outputs": [
    {
     "name": "stdin",
     "output_type": "stream",
     "text": [
      "Enter a positive number:  5\n"
     ]
    },
    {
     "name": "stdout",
     "output_type": "stream",
     "text": [
      "120\n"
     ]
    }
   ],
   "source": [
    "n = input('Enter a positive number: ')\n",
    "n = int(n)\n",
    "if n < 0: # Throw ValueError for negative value of n\n",
    "    raise ValueError(\"Invalid input. Input must be a positive number.\") \n",
    "factorial = 1 # Assign factorial value as 1, using identity property of multiplication\n",
    "while 1 <= n: \n",
    "    factorial = factorial*n # Multiply factorial to n until n reaches 1\n",
    "    n = n-1\n",
    "print(factorial)"
   ]
  },
  {
   "cell_type": "markdown",
   "metadata": {
    "id": "ZQ5SVMq6D04w"
   },
   "source": [
    "## 3. Functions\n",
    "\n",
    "(10 points) Write a function that determines if a number is prime."
   ]
  },
  {
   "cell_type": "code",
   "execution_count": 308,
   "metadata": {
    "colab": {
     "base_uri": "https://localhost:8080/"
    },
    "id": "6rGP5G3_D04x",
    "outputId": "00df2d17-b697-4146-968f-be4fa7cc3ba3"
   },
   "outputs": [
    {
     "name": "stdout",
     "output_type": "stream",
     "text": [
      "True\n",
      "False\n",
      "True\n",
      "False\n"
     ]
    }
   ],
   "source": [
    "import math \n",
    "def is_prime(n):\n",
    "    if n < 0: # Raise ValueError for n of negative value\n",
    "        raise ValueError('n must be a positive integer.')\n",
    "    if n < 2: # For value less than 2, it is not considered as prime number\n",
    "        return(False)\n",
    "    elif n == 2: # 2 is a prime number\n",
    "        return(True)\n",
    "    else: # For n greater than 2,\n",
    "        for i in range(2,int(math.sqrt(n))+1): # Check if n is divisible by from 2 to integer value of square root of n.\n",
    "            # If n is not divisible until the integer value square root, it can be considered to prime number\n",
    "            if n % i == 0:\n",
    "                return(False) # Return False if n is divisible by any numbers from 2 to the integer value of square root\n",
    "        return(True) \n",
    "\n",
    "# test cases\n",
    "print(is_prime(2))      # Output: True\n",
    "print(is_prime(10))     # Output: False\n",
    "print(is_prime(17))     # Output: True\n",
    "print(is_prime(33))     # Output: False"
   ]
  },
  {
   "cell_type": "markdown",
   "metadata": {
    "id": "Z6qg-fpQD04u"
   },
   "source": [
    "## 4. List Comprehension\n",
    "\n",
    "(10 points) Write a Python function called `prime_factors` that takes a relatively small integer as input and returns a list of its distinct prime factors. The function should use list comprehension to generate the list of distinct prime factors. You may use the function is_prime() defined in Q3.\n"
   ]
  },
  {
   "cell_type": "code",
   "execution_count": 310,
   "metadata": {
    "colab": {
     "base_uri": "https://localhost:8080/"
    },
    "id": "2hSCjYlOD04v",
    "outputId": "1024d2e2-7d24-4e65-9529-e5a82d2a3211"
   },
   "outputs": [
    {
     "name": "stdout",
     "output_type": "stream",
     "text": [
      "[2, 3, 5]\n",
      "[2, 7]\n",
      "[2, 3, 11]\n",
      "[2, 29]\n"
     ]
    }
   ],
   "source": [
    "import math\n",
    "def prime_factors(n):\n",
    "    factors = [] # Generate a list containing factors of n \n",
    "    for i in range(1,n+1): # As range(s,e) does not include e, add 1 to get all factors of n\n",
    "        if n % i == 0:\n",
    "            factors.append(i) # Add factors to the list\n",
    "    prime_factors = [] # Generate a new list containing only prime factors\n",
    "    for i in range(len(factors)):\n",
    "        if is_prime(factors[i]): # Check if each element of factor list is prime number or not, using the function in Q3\n",
    "            prime_factors.append(factors[i]) # If an element is a prime number, add the element to the list\n",
    "    return(prime_factors)\n",
    "        \n",
    "# test cases\n",
    "print(prime_factors(30))  # Output: [2, 3, 5]\n",
    "print(prime_factors(56))  # Output: [2, 7]\n",
    "print(prime_factors(198))  # Output: [2, 3, 11]\n",
    "print(prime_factors(464))  # Output: [2, 29]"
   ]
  },
  {
   "cell_type": "markdown",
   "metadata": {
    "id": "dw4kZZCiD040"
   },
   "source": [
    "## 5. Recursive Functions\n",
    "(25 points) Write a function that uses recursion to generate the $n$th row of the Pascal's triangle.\n",
    "```\n",
    "              1\n",
    "           1     1\n",
    "        1     2     1\n",
    "      1    3     3     1\n",
    "   1    4     6     4    1\n",
    "1     5    10    10    5    1\n",
    "...\n",
    "...\n",
    "...\n",
    "```"
   ]
  },
  {
   "cell_type": "code",
   "execution_count": 312,
   "metadata": {
    "colab": {
     "base_uri": "https://localhost:8080/"
    },
    "id": "V8QFB_gKD040",
    "outputId": "4946dc49-2061-4057-e65d-9f48af44dac9"
   },
   "outputs": [
    {
     "name": "stdout",
     "output_type": "stream",
     "text": [
      "[1, 5, 10, 10, 5, 1]\n"
     ]
    }
   ],
   "source": [
    "def pascal(n):\n",
    "    if n == 1: # The first row of the Pascal's triangle has one element, which is 1\n",
    "        return [1]\n",
    "    else: # For n is greater than 2,\n",
    "        nminus1row = pascal(n-1) # Assign (n-1)th row in the triangle, using recursion\n",
    "        nthrow = [1] # Every row in the Pascal's triangle begins with 1\n",
    "        for i in range(1,n-1):\n",
    "            nthrow.append(nminus1row[i-1]+nminus1row[i]) # (n,r)th element in the Pascal's traigle follows this rule: (n-1,r-1)th element+(n-1,r)th element\n",
    "        nthrow.append(1) # Every row in the Pascal's triangle ends with 1\n",
    "    return(nthrow)\n",
    "    \n",
    "# test case\n",
    "print(pascal(6))  "
   ]
  },
  {
   "cell_type": "markdown",
   "metadata": {
    "id": "eZytgm0qD041"
   },
   "source": [
    "Rewrite the above function using only `while` or `for` loops instead of recursion."
   ]
  },
  {
   "cell_type": "code",
   "execution_count": 294,
   "metadata": {
    "colab": {
     "base_uri": "https://localhost:8080/"
    },
    "id": "UZ8f-akaD041",
    "outputId": "68ec5672-a40f-493f-e725-68b7471e76bc"
   },
   "outputs": [
    {
     "name": "stdout",
     "output_type": "stream",
     "text": [
      "[1, 5, 10, 10, 5, 1]\n"
     ]
    }
   ],
   "source": [
    "import math\n",
    "def pascal_by_loops(n):\n",
    "    nthrow = [] # Generate list of elements of nth row\n",
    "    for r in range(0,n):\n",
    "        nthrow.append(math.comb(n-1,r)) # (n,r)th element in Pascal's triangle follows this rule: (n-1)C(r)\n",
    "    return(nthrow)\n",
    "\n",
    "# test case\n",
    "print(pascal_by_loops(6))"
   ]
  },
  {
   "cell_type": "markdown",
   "metadata": {
    "id": "HvHD6QHzVo9I"
   },
   "source": [
    "\n",
    "\n",
    "---\n",
    "\n",
    "\n",
    "（5 points) good coding practice and properly submitting your work to GitHub."
   ]
  },
  {
   "cell_type": "code",
   "execution_count": null,
   "metadata": {},
   "outputs": [],
   "source": []
  }
 ],
 "metadata": {
  "anaconda-cloud": {},
  "colab": {
   "provenance": []
  },
  "kernelspec": {
   "display_name": "Python 3 (ipykernel)",
   "language": "python",
   "name": "python3"
  },
  "language_info": {
   "codemirror_mode": {
    "name": "ipython",
    "version": 3
   },
   "file_extension": ".py",
   "mimetype": "text/x-python",
   "name": "python",
   "nbconvert_exporter": "python",
   "pygments_lexer": "ipython3",
   "version": "3.11.7"
  }
 },
 "nbformat": 4,
 "nbformat_minor": 4
}
